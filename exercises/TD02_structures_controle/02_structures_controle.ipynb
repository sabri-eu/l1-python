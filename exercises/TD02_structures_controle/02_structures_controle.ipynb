{
 "cells": [
  {
   "cell_type": "markdown",
   "metadata": {
    "slideshow": {
     "slide_type": "slide"
    }
   },
   "source": [
    "---\n",
    "\n",
    "## 1. Premiers exercices avec les structures conditionnelles\n",
    "\n",
    "**Exercice 1:**\n",
    "\n",
    "1. Soit *num1 = 15* et *num2 = 5*. Ecrire un programme qui affiche *Factors!* si l'un des nombres est un facteur de l'autre (c'est-à-dire qu'il divise l'autre nombre). Si aucun des nombres n'est un facteur de l'autre, le programme n'affiche rien.\n",
    "2. Changer le code que vous avez écrit de telle sorte qu'il affiche toujours *Factors!* si un nombre est un facteur de l'autre, mais qui affiche aussi *Not factors!* si aucun des nombres n'est un facteur de l'autre."
   ]
  },
  {
   "cell_type": "code",
   "execution_count": 1,
   "metadata": {
    "slideshow": {
     "slide_type": "notes"
    }
   },
   "outputs": [
    {
     "name": "stdout",
     "output_type": "stream",
     "text": [
      "Factors!\n"
     ]
    }
   ],
   "source": [
    "num1 = 15\n",
    "num2 = 5\n",
    "\n",
    "if num2 % num1 == 0:\n",
    "    print(\"Factors!\")\n",
    "elif num1 % num2 == 0:\n",
    "    print(\"Factors!\")\n",
    "else:\n",
    "    print(\"Not factors!\")"
   ]
  },
  {
   "cell_type": "markdown",
   "metadata": {
    "slideshow": {
     "slide_type": "slide"
    }
   },
   "source": [
    "**Exercice 2:**\n",
    "    \n",
    "Soit *state = \"Georgia\"*. Ecrire un programme qui permet d'afficher un message spécifique en fonction de la variable *state* :  \n",
    "* \"School isn't cancelled.\" si nous sommes à New Jersey,  \n",
    "* \"School is postponed.\" si nous sommes à North Carolina,\n",
    "* \"School is cancelled!\" si nous sommes à Georgia,  \n",
    "* \"School's status is unknown\" si nous ne sommes pas dans un des trois états précédemment mentionnés."
   ]
  },
  {
   "cell_type": "code",
   "execution_count": 2,
   "metadata": {
    "slideshow": {
     "slide_type": "notes"
    }
   },
   "outputs": [
    {
     "name": "stdout",
     "output_type": "stream",
     "text": [
      "School is cancelled!\n"
     ]
    }
   ],
   "source": [
    "state = \"Georgia\"\n",
    "\n",
    "if state == \"New Jersey\":\n",
    "    print(\"School isn't cancelled.\")\n",
    "elif state == \"North Carolina\":\n",
    "    print(\"School is postponed.\")\n",
    "elif state == \"Georgia\":\n",
    "    print(\"School is cancelled!\")\n",
    "else:\n",
    "    print(\"School's status is unknown\")"
   ]
  },
  {
   "cell_type": "markdown",
   "metadata": {
    "slideshow": {
     "slide_type": "slide"
    }
   },
   "source": [
    "**Exercice 3:**\n",
    "\n",
    "Ecrire un programme pour découvrir le signe du zodiaque chinois pour une année donnée. Le signe du zodiaque chinois est basé sur un cycle de 12 ans et chaque année de ce cycle est représentée par un animal :\n",
    "* 0: monkey\n",
    "* 1: rooster\n",
    "* 2: dog\n",
    "* 3: pig\n",
    "* 4: rat\n",
    "* 5: ox\n",
    "* 6: tiger\n",
    "* 7: rabbit\n",
    "* 8: dragon\n",
    "* 9: snake\n",
    "* 10: horse\n",
    "* 11: sheep\n",
    "\n",
    "La valeur de l'année % 12 détermine le signe du zodiaque. Par exemple, 1900 est l'année du *rat* puisque 1900 % 12 est 4."
   ]
  },
  {
   "cell_type": "code",
   "execution_count": 3,
   "metadata": {
    "slideshow": {
     "slide_type": "notes"
    },
    "vscode": {
     "languageId": "ruby"
    }
   },
   "outputs": [
    {
     "name": "stdout",
     "output_type": "stream",
     "text": [
      "Ton signe du zodiaque chinois est le chien !\n"
     ]
    }
   ],
   "source": [
    "annee = int(input(\"Quelle est ton année de naissance ?\"))\n",
    "\n",
    "if annee % 12 == 0:\n",
    "    print(\"Ton signe du zodiaque chinois est le singe !\")\n",
    "elif annee % 12 == 1:\n",
    "    print(\"Ton signe du zodiaque chinois est le coq !\")\n",
    "elif annee % 12 == 2:\n",
    "    print(\"Ton signe du zodiaque chinois est le chien !\")\n",
    "elif annee % 12 == 3:\n",
    "    print(\"Ton signe du zodiaque chinois est le cochon !\")\n",
    "elif annee % 12 == 4:\n",
    "    print(\"Ton signe du zodiaque chinois est le rat !\")\n",
    "elif annee % 12 == 5:\n",
    "    print(\"Ton signe du zodiaque chinois est le boeuf !\")\n",
    "elif annee % 12 == 6:\n",
    "    print(\"Ton signe du zodiaque chinois est le tigre !\")\n",
    "elif annee % 12 == 7:\n",
    "    print(\"Ton signe du zodiaque chinois est le lapin !\")\n",
    "elif annee % 12 == 8:\n",
    "    print(\"Ton signe du zodiaque chinois est le dragon !\")\n",
    "elif annee % 12 == 9:\n",
    "    print(\"Ton signe du zodiaque chinois est le serpent !\")\n",
    "elif annee % 12 == 10:\n",
    "    print(\"Ton signe du zodiaque chinois est le cheval !\")\n",
    "elif annee % 12 == 11:\n",
    "    print(\"Ton signe du zodiaque chinois est le mouton !\")"
   ]
  },
  {
   "cell_type": "markdown",
   "metadata": {
    "slideshow": {
     "slide_type": "slide"
    }
   },
   "source": [
    "**Exercice 4:**\n",
    "\n",
    "Soit *temperature = -3.7* et *celsius = True*. *celsius* est une variable booléenne qui indique si la température est en Celsius; si c'est *False*, alors la température donnée est en Fahrenheit. Ecrire un premier programme en utilisant *if-else* seulement qui permet d'afficher *Freezing* si les valeurs données représentent une température très basse, et *Not freezing* si ce n'est pas le cas. En Celsius, on considère qu'il fait très froid lorsque la température est inférieure ou égale à 0 degré. En Fahrenheit, on considère qu'il fait très froid lorsque la température est inférieure ou égale à 32 degrés. Proposer une seconde solution en utilisant *if-elif-else* à ce même problème."
   ]
  },
  {
   "cell_type": "code",
   "execution_count": 4,
   "metadata": {
    "slideshow": {
     "slide_type": "notes"
    }
   },
   "outputs": [
    {
     "name": "stdout",
     "output_type": "stream",
     "text": [
      "Freezing\n"
     ]
    }
   ],
   "source": [
    "temperature = -3.7\n",
    "celsius = True\n",
    "\n",
    "if celsius:\n",
    "    if temperature <= 0:\n",
    "        print(\"Freezing\")\n",
    "    else:\n",
    "        print(\"Not freezing\")\n",
    "else:\n",
    "    if temperature <= 32:\n",
    "        print(\"Freezing\")\n",
    "    else:\n",
    "        print(\"Not freezing\")"
   ]
  },
  {
   "cell_type": "code",
   "execution_count": null,
   "metadata": {},
   "outputs": [],
   "source": []
  },
  {
   "cell_type": "markdown",
   "metadata": {
    "slideshow": {
     "slide_type": "slide"
    }
   },
   "source": [
    "**Exercice 5:**\n",
    "    \n",
    "Ecrire un programme qui permet de déterminer si une année est bissextile ou non en utilisant une seule instruction *if-else*. Une année *A* est bissextile si *A* est divisible par 4. Elle ne l’est cependant pas si *A* est un multiple\n",
    "de 100, à moins que *A* ne soit multiple de 400.    "
   ]
  },
  {
   "cell_type": "code",
   "execution_count": null,
   "metadata": {
    "slideshow": {
     "slide_type": "notes"
    }
   },
   "outputs": [],
   "source": [
    "year = 1900\n",
    "\n",
    "if year % 4 == 0 and (year % 100 != 0 or year % 400 == 0):\n",
    "    print(\"L'année est bissextile\")\n",
    "else:\n",
    "    print(\"L'année n'est pas bissextile\")"
   ]
  },
  {
   "cell_type": "markdown",
   "metadata": {},
   "source": [
    "**Exercice 6:**\n",
    "\n",
    "Ecrire un programme qui affiche “Hello” si un nombre donné par l‘utilisateur est un multiple de 5, sinon il affiche « Bye »"
   ]
  },
  {
   "cell_type": "code",
   "execution_count": null,
   "metadata": {},
   "outputs": [],
   "source": [
    "number = int(input(\"Entre un nombre: \"))\n",
    "\n",
    "if number % 5 == 0:\n",
    "    print(\"Hello\")\n",
    "else:\n",
    "    print(\"Bye\")"
   ]
  },
  {
   "cell_type": "markdown",
   "metadata": {},
   "source": [
    "**Exercice 7:**\n",
    "\n",
    "Ecrire un programme qui accepte 2 nombres et un opérateur mathématique (+, -, *, /) de la part de l’utilisateur, et exécute l’opération correspondante."
   ]
  },
  {
   "cell_type": "code",
   "execution_count": 8,
   "metadata": {},
   "outputs": [
    {
     "name": "stdout",
     "output_type": "stream",
     "text": [
      "Erreur\n"
     ]
    }
   ],
   "source": [
    "num1 = float(input(\"Entre le premier nombre: \"))\n",
    "num2 = float(input(\"Enter le deuxième nombre: \"))\n",
    "operator = input(\"Enter l'opérateur: \")\n",
    "\n",
    "if operator == \"+\":\n",
    "    result = num1 + num2\n",
    "    print(\"Resultat:\", result)\n",
    "elif operator == \"-\":\n",
    "    result = num1 - num2\n",
    "    print(\"Resultat:\", result)\n",
    "elif operator == \"*\":\n",
    "    result = num1 * num2\n",
    "    print(\"Resultat:\", result)\n",
    "elif operator == \"/\":\n",
    "    if num2 == 0:\n",
    "        print(\"Erreur\")\n",
    "    else:\n",
    "        result = num1 / num2\n",
    "        print(\"Resultat:\", result)\n",
    "else:\n",
    "    print(\"L'oérateur n'est pas valide\")\n",
    "\n"
   ]
  },
  {
   "cell_type": "markdown",
   "metadata": {},
   "source": [
    "**Exercice 8:**\n",
    "\n",
    "Ecrire un programme qui accepte l’âge, le genre (« M », « F »), le nombre de jour, et affiche le salaire. Si l’âge ne figure pas dans l’intervalle, alors le programme affiche le message suivant « donner l’ âge approprié »\n",
    "\n",
    "\n",
    "            \n",
    "| age  | Sex | Salaire/Jour |\n",
    "|:--------:|:--------:|:--------:|\n",
    "|  >=18 & < 30   |  M   |  700   |\n",
    "|                |  F  |  750   |\n",
    "|  >=30 & <=40   |  M   |  800  |\n",
    "|                |  F  |  850   |"
   ]
  },
  {
   "cell_type": "code",
   "execution_count": 2,
   "metadata": {},
   "outputs": [
    {
     "name": "stdout",
     "output_type": "stream",
     "text": [
      "donner l'âge approprié\n"
     ]
    }
   ],
   "source": [
    "age = int(input(\"Entre l'âge: \"))\n",
    "genre = input(\"Entre le genre: \")\n",
    "jour_travaille = int(input(\"Entre le nombre de jours travaillés: \"))\n",
    "\n",
    "if age >= 18 and age < 30:\n",
    "    if genre == \"M\":\n",
    "        salaire_jour = 700\n",
    "    elif genre == \"F\":\n",
    "        salaire_jour = 750\n",
    "    else:\n",
    "        print(\"Genre invalide\")\n",
    "        salaire_jour = None\n",
    "elif age >= 30 and age <= 40:\n",
    "    if genre == \"M\":\n",
    "        salaire_jour = 800\n",
    "    elif genre == \"F\":\n",
    "        salaire_jour = 850\n",
    "    else:\n",
    "        print(\"Genre invalide\")\n",
    "        salaire_jour = None\n",
    "else:\n",
    "    print(\"donner l'âge approprié\")\n",
    "    salaire_jour = None\n",
    "\n",
    "if salaire_jour is not None:\n",
    "    salaire = jour_travaille * salaire_jour\n",
    "    print(\"Le salaire est de: \", salaire)"
   ]
  },
  {
   "cell_type": "markdown",
   "metadata": {},
   "source": [
    "**Exercice 9:**\n",
    "\n",
    "Ecrire un programme qui accepte 3 nombres et affiche le 2ème grand nombre."
   ]
  },
  {
   "cell_type": "code",
   "execution_count": null,
   "metadata": {},
   "outputs": [],
   "source": [
    "num1 = int(input(\"Entre le premier nombre: \"))\n",
    "num2 = int(input(\"Entre le deuxième nombre: \"))\n",
    "num3 = int(input(\"Entre le troisième nombre: \"))\n",
    "\n",
    "if num1 > num2 and num1 > num3:\n",
    "    if num2 > num3:\n",
    "        second = num2\n",
    "    else:\n",
    "        second = num3\n",
    "elif num2 > num1 and num2 > num3:\n",
    "    if num1 > num3:\n",
    "        second = num1\n",
    "    else:\n",
    "        second = num3\n",
    "else:\n",
    "    if num1 > num2:\n",
    "        second = num1\n",
    "    else:\n",
    "        second = num2\n",
    "\n",
    "print(\"Le 2ème grand nombre est:\", second)"
   ]
  },
  {
   "cell_type": "markdown",
   "metadata": {},
   "source": [
    "**Exercice 10:**\n",
    "\n",
    "Ecrire un programme qui accepte les longueurs de trois côtés d'un triangle et vérifie si le triangle est possible ou non"
   ]
  },
  {
   "cell_type": "code",
   "execution_count": null,
   "metadata": {},
   "outputs": [],
   "source": [
    "a = float(input(\"Entrez la longueur du premier côté du triangle: \"))\n",
    "b = float(input(\"Entrez la longueur du deuxième côté du triangle: \"))\n",
    "c = float(input(\"Entrez la longueur du troisième côté du triangle: \"))\n",
    "\n",
    "if a + b > c and a + c > b and b + c > a:\n",
    "    print(\"Le triangle est possible.\")\n",
    "else:\n",
    "    print(\"Le triangle n'est pas possible.\")"
   ]
  },
  {
   "cell_type": "markdown",
   "metadata": {},
   "source": [
    "---\n",
    "\n",
    "## 2. Premiers exercices avec les structures itératives\n",
    "\n",
    "**Exercice 11:**\n",
    "\n",
    "1. Ecrire un programme qui permet d'afficher tous les nombres entre 1 et 10 (bornes incluses).\n",
    "2. Ecrire un programme se limitant à la boucle *for* qui permet d'afficher tous les nombres pairs entre 1 et 20 (bornes incluses). Proposer une deuxième solution en incluant une structure conditionnelle."
   ]
  },
  {
   "cell_type": "code",
   "execution_count": null,
   "metadata": {},
   "outputs": [],
   "source": [
    "for i in range(1, 11):\n",
    "    print(i)"
   ]
  },
  {
   "cell_type": "code",
   "execution_count": null,
   "metadata": {},
   "outputs": [],
   "source": [
    "for i in range(1, 21):\n",
    "    if i % 2 == 0:\n",
    "        print(i)"
   ]
  },
  {
   "cell_type": "code",
   "execution_count": null,
   "metadata": {},
   "outputs": [],
   "source": []
  },
  {
   "cell_type": "code",
   "execution_count": null,
   "metadata": {},
   "outputs": [],
   "source": []
  },
  {
   "cell_type": "markdown",
   "metadata": {},
   "source": [
    "**Exercice 12:**\n",
    "    \n",
    "1. Ecrire un programme qui demande à l'utilisateur de saisir *n* nombres, *n* étant choisi par l'utilisateur, puis d'afficher la moyenne de ces nombres.\n",
    "\n",
    "2. Même question, mais l'utilisateur ne choisit pas à l'avance le nombre *n*, la procédure s'arrête quand il saisit le nombre -1.\n"
   ]
  },
  {
   "cell_type": "code",
   "execution_count": null,
   "metadata": {},
   "outputs": [],
   "source": [
    "n_nombre = int(input('Combien de nombre souhaites-en tu faire la moyenne?'))\n",
    "somme = 0\n",
    "for i in range(n_nombre):\n",
    "    nombre = int(input('Entre le nombre: '))\n",
    "    somme += nombre\n",
    "moyenne = somme / n_nombre\n",
    "print('La moyenne est:', moyenne)"
   ]
  },
  {
   "cell_type": "code",
   "execution_count": null,
   "metadata": {},
   "outputs": [],
   "source": [
    "while True:\n",
    "    nombre = float(input('Entre le nombre: '))\n",
    "    if nombre == -1:\n",
    "        break"
   ]
  },
  {
   "cell_type": "code",
   "execution_count": null,
   "metadata": {},
   "outputs": [],
   "source": []
  },
  {
   "cell_type": "markdown",
   "metadata": {},
   "source": [
    "**Exercice 13:**\n",
    "\n",
    "Ecrire un programme qui permet de calculer le factoriel d'un nombre positif donné par l'utlisateur selon la formule suivante : \n",
    "n! = 1 x 2 x ... x n.  \n",
    "\n",
    "1. Une première version en utilisant la boucle *for*\n",
    "2. Une seconde version en utilisant la boucle *while*"
   ]
  },
  {
   "cell_type": "code",
   "execution_count": null,
   "metadata": {},
   "outputs": [],
   "source": [
    "n = int(input(\"Entrez un nombre positif: \"))\n",
    "factorial = 1\n",
    "\n",
    "for i in range(1, n+1):\n",
    "    factorial *= i\n",
    "\n",
    "print(\"Le factoriel de\", n, \"est\", factorial)"
   ]
  },
  {
   "cell_type": "code",
   "execution_count": null,
   "metadata": {},
   "outputs": [],
   "source": [
    "n = int(input(\"Entrez un nombre positif: \"))\n",
    "factorial = 1\n",
    "i = 1\n",
    "\n",
    "while i <= n:\n",
    "    factorial *= i\n",
    "    i += 1\n",
    "\n",
    "print(\"Le factoriel de\", n, \"est\", factorial)"
   ]
  },
  {
   "cell_type": "markdown",
   "metadata": {
    "slideshow": {
     "slide_type": "slide"
    }
   },
   "source": [
    "---\n",
    "\n",
    "## 3. Pour aller plus loin\n",
    "\n",
    "**Excercice 14:**\n",
    "\n",
    "Ecrire un programme qui permet de connaître le jour de naissance de l'utilisateur en posant cinq questions.\n",
    "Chaque question demande si le jour est dans l'un des cinq ensembles suivants :\n",
    "\n",
    "* Set 1: \\[1 3 5 7 9 11 13 15 17 19 21 23 25 27 29 31\\]\n",
    "* Set 2: \\[2 3 6 7 10 11 14 15 18 19 22 23 26 27 30 31\\]\n",
    "* Set 3: \\[4 5 6 7 12 13 14 15 20 21 22 23 28 29 30 31\\]\n",
    "* Set 4: \\[8 9 10 11 12 13 14 15 24 25 26 27 28 29 30 31\\]\n",
    "* Set 5: \\[16 17 18 19 20 21 22 23 24 25 26 27 28 29 30 31\\]\n",
    "    \n",
    "\n",
    "Le jour de naissance est la somme des premiers nombres dans les ensembles où le jour apparaît. Par exemple,\n",
    "si le jour de naissance est 19, il apparaît dans Set 1, Set 2 et Set 5. Les premiers chiffres de ces trois ensembles sont 1, 2 et 16. Leur somme est 19."
   ]
  },
  {
   "cell_type": "code",
   "execution_count": null,
   "metadata": {
    "slideshow": {
     "slide_type": "notes"
    }
   },
   "outputs": [],
   "source": [
    "print(\"Répond par 'oui' ou 'non'.\")\n",
    "\n",
    "date = 0\n",
    "\n",
    "set1 = [1, 3, 5, 7, 9, 11, 13, 15, 17, 19, 21, 23, 25, 27, 29, 31]\n",
    "set2 = [2, 3, 6, 7, 10, 11, 14, 15, 18, 19, 22, 23, 26, 27, 30, 31]\n",
    "set3 = [4, 5, 6, 7, 12, 13, 14, 15, 20, 21, 22, 23, 28, 29, 30, 31]\n",
    "set4 = [8, 9, 10, 11, 12, 13, 14, 15, 24, 25, 26, 27, 28, 29, 30, 31]\n",
    "set5 = [16, 17, 18, 19, 20, 21, 22, 23, 24, 25, 26, 27, 28, 29, 30, 31]\n",
    "\n",
    "question1 = input(f\"Ton jour d'anniversaire est il dedans : {set1} ?\").lower()\n",
    "if question1 == 'oui':\n",
    "    date += set1[0]\n",
    "\n",
    "question2 = input(f\"Ton jour d'anniversaire est il dedans : {set2} ?\").lower()\n",
    "if question2 == 'oui':\n",
    "    date += set2[0]\n",
    "\n",
    "question3 = input(f\"Ton jour d'anniversaire est il dedans : {set3} ?\").lower()\n",
    "if question3 == 'oui':\n",
    "    date += set3[0]\n",
    "\n",
    "question4 = input(f\"Ton jour d'anniversaire est il dedans : {set4} ?\").lower()\n",
    "if question4 == 'oui':\n",
    "    date += set4[0]\n",
    "\n",
    "question5 = input(f\"Ton jour d'anniversaire est-il dedans : {set5} ?\").lower()\n",
    "if question5 == 'oui':\n",
    "    date += set5[0]\n",
    "\n",
    "print(f\"Ton anniversaire est le {date} !\")"
   ]
  },
  {
   "cell_type": "code",
   "execution_count": null,
   "metadata": {},
   "outputs": [],
   "source": []
  },
  {
   "cell_type": "markdown",
   "metadata": {
    "slideshow": {
     "slide_type": "slide"
    }
   },
   "source": [
    "**Excercice 15:**\n",
    "\n",
    "Ecrire un programme qui permet de génèrer de manière aléatoire un nombre à deux chiffres, invite l'utilisateur à saisir un nombre à deux chiffres et détermine si l'utilisateur gagne selon les règles suivantes :\n",
    "* Si l'entrée de l'utilisateur correspond à la loterie (le nombre généré aléatoirement) dans l'ordre exact, la récompense est de 10 000€.\n",
    "* Sinon, si les deux chiffres entrés par l'utilisateur correspondent aux deux chiffres du numéro de loterie, la récompense est de 3 000€.\n",
    "* Sinon, si un chiffre dans l'entrée de l'utilisateur correspond à un chiffre dans le numéro de loterie, la récompense est de 1 000€.\n",
    "\n",
    "**Astuce :** Utiliser la fonction **random.randint(0, 99)** pour génèrer de manière aléatoire un nombre à deux chiffres. Cette fonction doit être accompagné par **import random** comme première instruction dans le code."
   ]
  },
  {
   "cell_type": "code",
   "execution_count": null,
   "metadata": {
    "slideshow": {
     "slide_type": "notes"
    }
   },
   "outputs": [],
   "source": [
    "import random\n",
    "\n",
    "numéro_loterie = str(random.randint(0, 99))\n",
    "entrée_utilisateur = (input(\"Saisit un nombre à deux chiffres :\"))\n",
    "\n",
    "if numéro_loterie == entrée_utilisateur:\n",
    "    print(\"Tu as gagné 10 000 €\")\n",
    "\n",
    "elif numéro_loterie[0] == entrée_utilisateur[1] and numéro_loterie[1] == entrée_utilisateur[0]:\n",
    "    print(\"Tu as gagné 3 000 €\")\n",
    "\n",
    "elif numéro_loterie[0] == entrée_utilisateur[0] or numéro_loterie[1] == entrée_utilisateur[1] or numéro_loterie[0] == entrée_utilisateur[1] or numéro_loterie[1] == entrée_utilisateur[0]:\n",
    "    print(\"Tu as gagné 1 000 €\")\n",
    "else:\n",
    "    print(\"Tu as perdu !\")\n",
    "\n",
    "print(f\"Le numéro à trouver était le {numéro_loterie}.\")"
   ]
  },
  {
   "cell_type": "markdown",
   "metadata": {},
   "source": [
    "**Exercice 16:**\n",
    "    \n",
    "Ecrire un programme qui permet de calculer la somme des chiffres d'un entier *n* donné. Le nombre *n* doit être compris entre 10 et 20 (bornes incluses)."
   ]
  },
  {
   "cell_type": "code",
   "execution_count": null,
   "metadata": {},
   "outputs": [],
   "source": [
    "nombre = input(\"Entre un nombre compris entre 10 et 20 :\")\n",
    "\n",
    "résultat = int(nombre[0]) + int(nombre[1])\n",
    "\n",
    "print(f\"La somme des deux chifres de {nombre} est égale à {résultat}\")"
   ]
  },
  {
   "cell_type": "code",
   "execution_count": null,
   "metadata": {},
   "outputs": [],
   "source": []
  },
  {
   "cell_type": "markdown",
   "metadata": {},
   "source": [
    "**Exercice 17:**\n",
    "\n",
    "1. Ecrire un programme qui permet de générer aléatoirement deux nombres entre 0 et 9, de calculer leurs différences (en valeur absolue), puis d'inviter l'utilisateur à répondre à la question suivante *que vaut abs(number1 - number2)?*. Le programme doit permettre à l'utilisateur de répondre plusieurs fois jusqu'à la saisie de la bonne réponse.\n",
    "2. Modifier le programme précédent de telle sorte qu'il génère cinq occurences à la suite invitant à répondre à la question précédente. A la fin, le programme affiche le nombre moyen de tentatives qu'il a fallu à l'utilisateur pour répondre à une question."
   ]
  },
  {
   "cell_type": "code",
   "execution_count": null,
   "metadata": {
    "tags": []
   },
   "outputs": [],
   "source": [
    "import random\n",
    "\n",
    "number1 = random.randint(0, 9)\n",
    "number2 = random.randint(0, 9)\n",
    "\n",
    "résultat = abs(number1 - number2)\n",
    "\n",
    "while True:\n",
    "    réponse = int(input(f\"Que vaut la valeur absolue de {number1} - {number2} ?\"))\n",
    "    if résultat == réponse:\n",
    "        print(\"Bravo !\")\n",
    "        break\n",
    "    else:\n",
    "        print(\"Mauvaise réponse, essaie encore :\")"
   ]
  },
  {
   "cell_type": "code",
   "execution_count": null,
   "metadata": {
    "tags": []
   },
   "outputs": [],
   "source": [
    "import random\n",
    "\n",
    "number1 = random.randint(0, 9)\n",
    "number2 = random.randint(0, 9)\n",
    "\n",
    "résultat = abs(number1 - number2)\n",
    "\n",
    "i = 0\n",
    "while i<5:\n",
    "    réponse = int(input(f\"Que vaut la valeur absolue de {number1} - {number2} ?\"))\n",
    "    if résultat == réponse:\n",
    "        print(\"Bravo !\")\n",
    "        print(f\"T'as eu {i} tentative(s) échouée(s\")\n",
    "        break\n",
    "    else:\n",
    "        print(\"Mauvaise réponse, essaie encore :\")\n",
    "        i = i + 1"
   ]
  },
  {
   "cell_type": "markdown",
   "metadata": {},
   "source": [
    "**Exercice 18:**\n",
    "\n",
    "Ecrire un programme qui permet de calculer le nombre de mots dans une phrase saisie par l'utilisateur."
   ]
  },
  {
   "cell_type": "code",
   "execution_count": null,
   "metadata": {
    "tags": []
   },
   "outputs": [],
   "source": [
    "phrase = input(\"écrit une phrase\")\n",
    "\n",
    "nombre_espace = 0\n",
    "for i in range(len(phrase)):\n",
    "    if phrase[i] == \" \" or phrase[i] == \"'\":\n",
    "        nombre_espace += 1\n",
    "\n",
    "nombre_mots = nombre_espace + 1\n",
    "\n",
    "print(f\"Cette phrase contient {nombre_mots} mots\")"
   ]
  },
  {
   "cell_type": "markdown",
   "metadata": {
    "slideshow": {
     "slide_type": "slide"
    }
   },
   "source": [
    "---\n",
    "\n",
    "## 4. Pour s'entraîner\n",
    "\n",
    "**Exercice 19:**\n",
    "    \n",
    "Soit la variable my_input = \"zoophysiology\". Ecrire un script qui permet d'afficher l'un des messages suivants en fonction du nombre maximum de *o* consécutifs dans la variable *my_input*. Par exemple, le script doit afficher \"I like studying birds! I want to become an ornithologist!\" parce qu'il y a deux *o* consécutifs, même s'il y a aussi des *o* individual.\n",
    "Ignorer les *o* majuscules - recherchez que les *o* minuscules.\n",
    "\n",
    "* Si \"o\" apparaît trois fois ou plus de suite, afficher le message \"I like going to the zoo!\"  \n",
    "* Si \"o\" apparaît deux fois, afficher le message \"I like studying birds! I want to become an ornithologist!\"  \n",
    "* Si \"o\" apparaît une seule fois, afficher le message \"I like studying fish! I want to become an ichthyologist!\"  \n",
    "* Si \"o\" n'apparaît pas dans la variable *my_input*, afficher le message \"I miss going to the zoo!\"  \n",
    "\n",
    "**Astuce :** Utiliser l'opérateur **in** qui renvoie **True** si la première chaîne se trouve dans la deuxième chaîne. "
   ]
  },
  {
   "cell_type": "code",
   "execution_count": null,
   "metadata": {},
   "outputs": [],
   "source": [
    "my_input = \"zoophysiology\"\n",
    "\n",
    "if \"ooo\" in my_input:\n",
    "    print(\"I llike going to the zoo!\")\n",
    "elif \"oo\" in my_input:\n",
    "    print(\"I like studying birds! I want to become an ornithologist!\")\n",
    "elif \"o\" in my_input:\n",
    "    print(\"I like studyig fish! I want to become an ichthyologist!\")\n",
    "elif \"o\" not in my_input:\n",
    "    print(\"I miss going to the zoo!\")"
   ]
  },
  {
   "cell_type": "markdown",
   "metadata": {
    "slideshow": {
     "slide_type": "slide"
    }
   },
   "source": [
    "**Exercice 20:**\n",
    "    \n",
    "Créer quatre variables nommées *team_1* et *team_2*, représentant deux noms d'équipes, et *team_1_score* et *team_2_score*, représentant les scores de ces deux équipes. \n",
    "Une équipe gagne si son score est supérieur à l'autre score de l'autre équipe.\n",
    " \n",
    "Ecrire un premier script qui permet d'afficher les messages suivants selon les valeurs entrées, ceci en utilisant seulement les quatres variables créées :\n",
    "* Si une équipe bat l'autre, affichez: \"\\[winner\\] beat \\[loser\\] by \\[margin\\]\"\n",
    "* Si aucune des équipes n'a gagné, affichez: \"\\[team_1\\] played \\[team_2\\] and it was a tie\"\n",
    "\n",
    "Ecrire un deuxième script qui permet d'afficher les mêmes messages mais en ajoutant trois variables de plus :\n",
    "* La variable *winner* pour définir l'équipe gagnante  \n",
    "* La variable *loser* pour définier l'équipe perdante  \n",
    "* La variable *margin* pour définir la différence entre les deux scores \n"
   ]
  },
  {
   "cell_type": "code",
   "execution_count": null,
   "metadata": {
    "slideshow": {
     "slide_type": "notes"
    }
   },
   "outputs": [],
   "source": [
    "team_1 = input(\"Entrez le nom de la première team\")\n",
    "team_2 = input(\"Entre le nom d'une deuxième team\")\n",
    "team_1_score = input(\"Entrez le score de la première team\")\n",
    "team_2_score = input(\"Entre le score de la deuxième team.\")\n",
    "\n",
    "if team_1_score > team_2_score:\n",
    "    print(f\"{team_1} beats {team_2} by {team_1_score - team_2_score}.\")\n",
    "elif team_2_score > team_1_score:\n",
    "    print(f\"{team_2} beats {team_1} by {team_2_score - team_1_score}.\")\n",
    "else:\n",
    "    print(f\"{team_1} played {team_2} and it was a tie.\")"
   ]
  },
  {
   "cell_type": "code",
   "execution_count": null,
   "metadata": {
    "slideshow": {
     "slide_type": "notes"
    }
   },
   "outputs": [],
   "source": []
  },
  {
   "cell_type": "markdown",
   "metadata": {
    "slideshow": {
     "slide_type": "slide"
    }
   },
   "source": [
    "**Exercice 21:**\n",
    "    \n",
    "L'Indice de Masse Corporelle (IMC) permet d'estimer le poids idéal en fonction de la taille. Son calcul correspond au poids en kilogrammes divisé par le carré de la taille en mètre (IMC = poids en kg/taille² en m). Le chiffre obtenu permet d'estimer la corpulence et éventuellement le surpoids ou l'obésité chez l'adulte, homme ou femme.\n",
    "L'interprétation de l'IMC pour les personnes de 16 ans et plus est la suivante :\n",
    "* Moins de 18.5: Underweight\n",
    "* Entre 18.5 et 24.9: Normal\n",
    "* Entre 25.0 et 29.9: Overweight\n",
    "* Plus que 30.0: Obese\n",
    "\n",
    "Ecrire un programme qui permet de saisir un poids en *pounds* et une taille en *inches*, de calculer et d'afficher l'IMC à deux valeurs après la virgule, et d'afficher l'interprétation la plus adéquate. Notez qu'un *pound* équivaut à 0,45359237 kilogrammes et qu'un *inch* équivaut à 0,0254 mètre.  \n",
    "\n",
    "**Astuce :** Pour afficher deux valeurs après la virgule, utilisez la fonction **format(nom_variable, \".2f\")**. Exemple : **print('La moyenne est :', format(moyenne, \".2f\"))**"
   ]
  },
  {
   "cell_type": "code",
   "execution_count": null,
   "metadata": {
    "slideshow": {
     "slide_type": "notes"
    }
   },
   "outputs": [],
   "source": [
    "poids_pounds = float(input(\"Entrez votre poids en livres : \"))\n",
    "taille_inches = float(input(\"Entrez votre taille en pouces : \"))\n",
    "\n",
    "masse_kg = poids_pounds * 0.45359237\n",
    "taille_m = taille_inches / 39.3701\n",
    "\n",
    "imc = masse_kg / (taille_m ** 2)\n",
    "\n",
    "if imc < 18.5:\n",
    "    print(\"Underweight\")\n",
    "elif 18.5 <= imc < 25:\n",
    "    print(\"Normal\")\n",
    "elif 25 <= imc < 30:\n",
    "    print(\"Overweight\")\n",
    "else:\n",
    "    print(\"Obese\")"
   ]
  },
  {
   "cell_type": "markdown",
   "metadata": {},
   "source": [
    "**Exercice 22:**\n",
    "\n",
    "Ecrire un programme qui affiche un triangle d'étoiles de taille donnée, par exemple si on entre 6, le programme affiche:\n",
    "```\n",
    "*\n",
    "**\n",
    "***\n",
    "****\n",
    "*****\n",
    "******\n",
    "```"
   ]
  },
  {
   "cell_type": "code",
   "execution_count": null,
   "metadata": {
    "tags": []
   },
   "outputs": [],
   "source": [
    "n = int(input(\"entre un nombre\"))\n",
    "for i in range(n+1):\n",
    "    print(\"*\"*i)"
   ]
  },
  {
   "cell_type": "markdown",
   "metadata": {},
   "source": [
    "**Exercice 23:**\n",
    "\n",
    "Même exercice mais cette fois la sortie est\n",
    "```\n",
    "     *\n",
    "    **         \n",
    "   ***\n",
    "  ****\n",
    " *****\n",
    "******\n",
    "```"
   ]
  },
  {
   "cell_type": "code",
   "execution_count": null,
   "metadata": {
    "tags": []
   },
   "outputs": [],
   "source": [
    "n = int(input(\"Entre un nombre\"))\n",
    "for i in range(n+1):\n",
    "    print(\" \"*(n-i) + \"*\"*i)"
   ]
  },
  {
   "cell_type": "markdown",
   "metadata": {},
   "source": [
    "**Exercice 24:**\n",
    "\n",
    "Ecrire un programme qui calcule, étant donné un entier *n* rentré par l'utilisateur, la plus grande puissance de *n* inférieure à un million."
   ]
  },
  {
   "cell_type": "code",
   "execution_count": null,
   "metadata": {
    "tags": []
   },
   "outputs": [],
   "source": [
    "'''Je n'ai pas compris'''"
   ]
  }
 ],
 "metadata": {
  "celltoolbar": "Diaporama",
  "kernelspec": {
   "display_name": "Python 3 (ipykernel)",
   "language": "python",
   "name": "python3"
  },
  "language_info": {
   "codemirror_mode": {
    "name": "ipython",
    "version": 3
   },
   "file_extension": ".py",
   "mimetype": "text/x-python",
   "name": "python",
   "nbconvert_exporter": "python",
   "pygments_lexer": "ipython3",
   "version": "3.11.1"
  },
  "vscode": {
   "interpreter": {
    "hash": "3c4469ea11b14e37f29737b907f8b8840acc661661bbbd0ddc543af99186d067"
   }
  }
 },
 "nbformat": 4,
 "nbformat_minor": 4
}
