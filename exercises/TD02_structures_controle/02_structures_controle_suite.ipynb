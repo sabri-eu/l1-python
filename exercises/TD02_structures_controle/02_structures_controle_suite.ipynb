{
 "cells": [
  {
   "cell_type": "markdown",
   "id": "0f68f509",
   "metadata": {},
   "source": [
    "**Exercice 1 :** Supposons que vous souhaitiez développer un programme permettant à un élève de première année de s'entraîner à la soustraction. Le programme génère de manière aléatoire deux entiers d'un seul chiffre, number1 et number2, avec number1 >= number2, et pose à l'élève une question telle que \"Quel est 9 - 2 ?\" Après que l'élève ait saisi la réponse, le programme affiche un message indiquant si elle est correcte. Ecrire un programme qui génère cinq questions et, après qu'un élève y ait répondu, rapporte le nombre de réponses correctes. Le programme affiche également le temps passé sur le test, comme le montre l'exécution d'exemple. Pour mesurer le temps, il faut importer la bibliothèque *Time* (exemple d'utilisation: temps_de_depart = time.time())."
   ]
  },
  {
   "cell_type": "code",
   "execution_count": 2,
   "id": "36350376",
   "metadata": {},
   "outputs": [
    {
     "name": "stdout",
     "output_type": "stream",
     "text": [
      "27\n"
     ]
    }
   ],
   "source": [
    "print(3**3)"
   ]
  },
  {
   "cell_type": "code",
   "execution_count": null,
   "id": "6211852e",
   "metadata": {},
   "outputs": [],
   "source": [
    "import time\n",
    "import random\n",
    "\n",
    "number1 = 0\n",
    "number2 = 0\n",
    "total = 0\n",
    "start = time.time()\n",
    "for i in range(5):\n",
    "    number1 = 1\n",
    "    number2 = 5\n",
    "    while number1 < number2: \n",
    "        number1 = random.randint(1, 9)\n",
    "        number2 = random.randint(1, 9)\n",
    "    a = int(input(str(number1) +'-'+ str(number2)))\n",
    "    reponse = number1 - number2\n",
    "    if a == reponse:\n",
    "        total += 1\n",
    "    else:\n",
    "        total += 0\n",
    "end = time.time()\n",
    "\n",
    "\n",
    "print('Résultat:',total, 'Temps:',(end - start))"
   ]
  },
  {
   "cell_type": "markdown",
   "id": "03509ef4",
   "metadata": {},
   "source": [
    "**Exercice 2 :**  L'exemple précédent exécute la boucle cinq fois. Si vous souhaitez que l'utilisateur décide s'il souhaite prendre une autre question, vous pouvez proposer une confirmation à l'utilisateur (en tapant 'Y' pour continuer)."
   ]
  },
  {
   "cell_type": "code",
   "execution_count": null,
   "id": "1b568d44",
   "metadata": {},
   "outputs": [],
   "source": [
    "import time\n",
    "import random\n",
    "\n",
    "number1 = 0\n",
    "number2 = 0\n",
    "juste = 0\n",
    "total = 0\n",
    "o = input('Y/N')\n",
    "start = time.time()\n",
    "while o[0] == 'Y':\n",
    "    number1 = 1\n",
    "    number2 = 5\n",
    "    while number1 < number2: \n",
    "        number1 = random.randint(1, 9)\n",
    "        number2 = random.randint(1, 9)\n",
    "    a = int(input(str(number1) +'-'+ str(number2)))\n",
    "    reponse = number1 - number2\n",
    "    if a == reponse:\n",
    "        juste += 1\n",
    "        total += 1\n",
    "        o = input('Y/N')\n",
    "    else:\n",
    "        juste += 0\n",
    "        total += 1\n",
    "        o = input('Y/N')\n",
    "end = time.time()\n",
    "\n",
    "\n",
    "print('Résultat:',juste,'/', total, 'Temps:',(end - start))"
   ]
  },
  {
   "cell_type": "markdown",
   "id": "9535fb00",
   "metadata": {},
   "source": [
    "**Exercice 3 :**  (Trouver les nombres divisibles par 5 et 6) Écrivez un programme qui affiche, dix nombres par ligne, tous les nombres de 100 à 1 000 qui sont divisibles par 5 et 6. Les nombres sont séparés par exactement un espace."
   ]
  },
  {
   "cell_type": "code",
   "execution_count": null,
   "id": "8a8b97fa",
   "metadata": {},
   "outputs": [],
   "source": [
    "for i in range (100 , 1001):\n",
    "    if i % 5 == 0 or i % 6 == 0:\n",
    "        print(i, end= \" \")"
   ]
  },
  {
   "cell_type": "code",
   "execution_count": null,
   "id": "90132f62",
   "metadata": {},
   "outputs": [],
   "source": []
  },
  {
   "cell_type": "markdown",
   "id": "1f3d3536",
   "metadata": {},
   "source": [
    "**Exercice 4 :**  Écrivez un programme qui joue au populaire jeu ciseaux-pierre-papier. (Un ciseau peut couper du papier, une pierre peut écraser un ciseau, et du papier peut envelopper une pierre.) Le programme génère aléatoirement un nombre 0, 1 ou 2, représentant respectivement ciseaux, pierre et papier. Ensuite, le programme demande à l'utilisateur d'entrer un nombre 0, 1 ou 2, puis affiche un message indiquant si l'utilisateur gagne, perd ou obtient un match nul par rapport à l'ordinateur. Le programme  permet à l'utilisateur de jouer en continu jusqu'à ce que l'utilisateur ou l'ordinateur gagne plus de deux fois."
   ]
  },
  {
   "cell_type": "code",
   "execution_count": null,
   "id": "463e2c05",
   "metadata": {},
   "outputs": [],
   "source": [
    "import random\n",
    "\n",
    "victoire = \"victoire\"\n",
    "perdu= \"perdu\"\n",
    "match_nul=\"match nul\"\n",
    "t = 0\n",
    "a = 0\n",
    "while t < 3:\n",
    "    a = int(input(\"0, 1 ou 2\"))\n",
    "    b = random.randint(0, 2)\n",
    "    if (a == 2 and b == 1) or (a == 1 and b == 0) or (a == 0 and b == 2):\n",
    "        print(victoire)\n",
    "        t += 1\n",
    "    elif a == b:\n",
    "        print(match_nul)\n",
    "    else:\n",
    "        print(perdu)"
   ]
  },
  {
   "cell_type": "markdown",
   "id": "e5aa5e9e",
   "metadata": {},
   "source": [
    "**Exercice 5 :** Écrivez un programme pour vérifier la validité des mots de passe saisis par les utilisateurs.\n",
    "\n",
    "    -Au moins 1 lettre entre [a-z] et 1 lettre entre [A-Z].\n",
    "    -Au moins 1 chiffre entre [0-9].\n",
    "    -Au moins 1 caractère parmi [$#@].\n",
    "    -Longueur minimale de 6 caractères.\n",
    "    -Longueur maximale de 16 caractères.\n",
    "    \n",
    "La fonction *re.search()* du module *re* en Python est utilisée pour rechercher un motif (expression régulière) dans une chaîne de caractères. Voici la syntaxe simplifiée de re.search() : re.search(pattern, string)\n",
    "\n",
    "    -pattern : C'est le motif (expression régulière) que vous souhaitez rechercher dans la chaîne de caractères.\n",
    "    -string : C'est la chaîne de caractères dans laquelle vous souhaitez effectuer la recherche.\n",
    "    \n",
    "La fonction re.search() renvoie un objet de correspondance (match object) si le motif est trouvé dans la chaîne de caractères. Si le motif n'est pas trouvé, elle renvoie None.    "
   ]
  },
  {
   "cell_type": "code",
   "execution_count": null,
   "id": "1cf672d7",
   "metadata": {},
   "outputs": [],
   "source": [
    "import re\n",
    "mdp = input(\"mot de passe\")\n",
    "\n",
    "if len(mdp) <= 5 or len(mdp) >= 17:\n",
    "    print(\"mot de passe trop court / trop long\")\n",
    "else:\n",
    "    if re.search(r\"[#@$]\", mdp) == None:\n",
    "        print(\"il manque un caractère spécial\")\n",
    "    else:\n",
    "        if re.search(r\"\\d\", mdp) == None:\n",
    "            print(\"pas de nombre\")\n",
    "        else:\n",
    "            if re.search(r\"[A-Z]\", mdp) == None or re.search(r\"[a-z]\", mdp) == None:\n",
    "                print(\"pas de lettre\")\n",
    "            else:\n",
    "                print(\"Mot de Passe Valide\")"
   ]
  }
 ],
 "metadata": {
  "kernelspec": {
   "display_name": "Python 3",
   "language": "python",
   "name": "python3"
  },
  "language_info": {
   "codemirror_mode": {
    "name": "ipython",
    "version": 3
   },
   "file_extension": ".py",
   "mimetype": "text/x-python",
   "name": "python",
   "nbconvert_exporter": "python",
   "pygments_lexer": "ipython3",
   "version": "3.11.1"
  }
 },
 "nbformat": 4,
 "nbformat_minor": 5
}
